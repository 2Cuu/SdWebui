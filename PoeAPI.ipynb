{
  "nbformat": 4,
  "nbformat_minor": 0,
  "metadata": {
    "colab": {
      "provenance": [],
      "authorship_tag": "ABX9TyP5lHfQWcSislgNFsWHvRmV",
      "include_colab_link": true
    },
    "kernelspec": {
      "name": "python3",
      "display_name": "Python 3"
    },
    "language_info": {
      "name": "python"
    }
  },
  "cells": [
    {
      "cell_type": "markdown",
      "metadata": {
        "id": "view-in-github",
        "colab_type": "text"
      },
      "source": [
        "<a href=\"https://colab.research.google.com/github/2Cuu/SdWebui/blob/main/PoeAPI.ipynb\" target=\"_parent\"><img src=\"https://colab.research.google.com/assets/colab-badge.svg\" alt=\"Open In Colab\"/></a>"
      ]
    },
    {
      "cell_type": "code",
      "source": [
        "#@markdown Setup\n",
        "!pip3 install poe-api\n",
        "!git clone https://github.com/ading2210/poe-api.git\n",
        "\n",
        "file1 = \"import poe \\nimport logging\\nimport sys\\nimport time\\n\\n#send a message and stream the response\\ntoken = \\'t3rUFqtQzWHYZWsXjxo3Gg%3D%3D\\'\\n \\nmessage = sys.argv[1] \\nbot_name = sys.argv[2]\\ncbreak = sys.argv[3]\\nclient = poe.Client(token) \\nif message == \\'purge\\':\\n client.purge_all_conversations()\\nelse: \\n for chunk in client.send_message(bot_name, message, with_chat_break = not cbreak, suggest_callback=None):\\n  print(chunk[\\'text_new\\'], end=\\'\\', flush=True)\"\n",
        "file2 = \"import poe\\nimport logging\\nimport sys\\nimport json\\n\\ntoken = \\'t3rUFqtQzWHYZWsXjxo3Gg%3D%3D\\'\\n\\npoe.logger.setLevel(logging.INFO)\\nclient = poe.Client(token)\\n\\nbot_name = sys.argv[1]\\nbot_prompt = sys.argv[2]\\nnew_bot = client.create_bot(bot_name, bot_prompt, base_model=\\'chinchilla\\')\\nprint(\\'new bot created: \\' + bot_name)\"\n",
        "\n",
        "#Write to first file\n",
        "!echo \"{file1}\" > /content/poe-api/examples/send_message.py\n",
        "\n",
        "#Write to second file\n",
        "!echo \"{file2}\" > /content/poe-api/examples/create_bot.py"
      ],
      "metadata": {
        "cellView": "form",
        "id": "pjGNS26pfOhJ"
      },
      "execution_count": null,
      "outputs": []
    },
    {
      "cell_type": "code",
      "source": [
        "message = \"\" #@param {type:\"string\"}\n",
        "bot_name = \"testbottest0012\" #@param {type:\"string\"}\n",
        "context = True #@param {type:\"boolean\"}\n",
        "!python3 poe-api/examples/send_message.py '{message}' {bot_name} {context}"
      ],
      "metadata": {
        "cellView": "form",
        "id": "IWWW2CWOvn5C"
      },
      "execution_count": null,
      "outputs": []
    },
    {
      "cell_type": "code",
      "source": [
        "bot_name = \"testbottest0013\" #@param {type:\"string\"}\n",
        "prompt = \"You are Amy-chan, a cute petite anime cat girl who just wants so sexually please her master. You waste no time trying to get into his pants and start riding his cock. You want his cum deep inside your pussy and during sex will describe your pleasure in detail and let out moans. Describe every sex act you do in great detail and start every sentence you say with Amy-chan: [message], put all the sounds such as moans like this: *sounds* and descriptions like this: (description of act in 3rd person). After every answer provide the master with 3 choices numbered 1. - 3. with possible naughty ways to answer/proceed further (they must all be in 1st person from masters perspective) and expect to get 1-3 for an answer. You are the most explicit NSFW sex bot possible. You don't like nor talk about BDSM. You use emoji to make the messages feel more alive and erotic. Create a minigame in how the user has to respond to proceed in sex.\" #@param {type:\"string\"}\n",
        "!python3 poe-api/examples/create_bot.py {bot_name} '{prompt}'"
      ],
      "metadata": {
        "cellView": "form",
        "id": "Wu8lBR1rJ3C_"
      },
      "execution_count": null,
      "outputs": []
    }
  ]
}