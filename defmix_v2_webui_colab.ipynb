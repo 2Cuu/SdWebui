{
  "cells": [
    {
      "cell_type": "markdown",
      "metadata": {
        "id": "view-in-github"
      },
      "source": [
        "[![Open In Colab](https://colab.research.google.com/assets/colab-badge.svg)](https://colab.research.google.com/github/camenduru/stable-diffusion-webui-colab/blob/main/nightly/defmix_v2_webui_colab.ipynb)"
      ]
    },
    {
      "cell_type": "code",
      "execution_count": null,
      "metadata": {
        "id": "SaAJk33ppFw1"
      },
      "outputs": [],
      "source": [
        "%cd /content\n",
        "\n",
        "%env TF_CPP_MIN_LOG_LEVEL=1\n",
        "\n",
        "!apt -y update -qq\n",
        "!wget http://launchpadlibrarian.net/367274644/libgoogle-perftools-dev_2.5-2.2ubuntu3_amd64.deb\n",
        "!wget https://launchpad.net/ubuntu/+source/google-perftools/2.5-2.2ubuntu3/+build/14795286/+files/google-perftools_2.5-2.2ubuntu3_all.deb\n",
        "!wget https://launchpad.net/ubuntu/+source/google-perftools/2.5-2.2ubuntu3/+build/14795286/+files/libtcmalloc-minimal4_2.5-2.2ubuntu3_amd64.deb\n",
        "!wget https://launchpad.net/ubuntu/+source/google-perftools/2.5-2.2ubuntu3/+build/14795286/+files/libgoogle-perftools4_2.5-2.2ubuntu3_amd64.deb\n",
        "!apt install -qq libunwind8-dev\n",
        "!dpkg -i *.deb\n",
        "%env LD_PRELOAD=libtcmalloc.so\n",
        "!rm *.deb\n",
        "\n",
        "!apt -y install -qq aria2\n",
        "!pip install -q torch==2.0.0+cu118 torchvision==0.15.1+cu118 torchaudio==2.0.1+cu118 torchtext==0.15.1 torchdata==0.6.0 --extra-index-url https://download.pytorch.org/whl/cu118 -U\n",
        "!pip install -q xformers==0.0.18 triton==2.0.0 -U\n",
        "\n",
        "!git clone -b v2.2 https://github.com/camenduru/stable-diffusion-webui\n",
        "!git clone https://huggingface.co/embed/negative /content/stable-diffusion-webui/embeddings/negative\n",
        "!git clone https://huggingface.co/embed/lora /content/stable-diffusion-webui/models/Lora/positive\n",
        "!aria2c --console-log-level=error -c -x 16 -s 16 -k 1M https://huggingface.co/embed/upscale/resolve/main/4x-UltraSharp.pth -d /content/stable-diffusion-webui/models/ESRGAN -o 4x-UltraSharp.pth\n",
        "!git clone https://github.com/deforum-art/deforum-for-automatic1111-webui /content/stable-diffusion-webui/extensions/deforum-for-automatic1111-webui\n",
        "!git clone https://github.com/AlUlkesh/stable-diffusion-webui-images-browser /content/stable-diffusion-webui/extensions/stable-diffusion-webui-images-browser\n",
        "!git clone https://github.com/camenduru/stable-diffusion-webui-huggingface /content/stable-diffusion-webui/extensions/stable-diffusion-webui-huggingface\n",
        "!git clone https://github.com/camenduru/sd-civitai-browser /content/stable-diffusion-webui/extensions/sd-civitai-browser\n",
        "!git clone https://github.com/camenduru/sd-webui-tunnels /content/stable-diffusion-webui/extensions/sd-webui-tunnels\n",
        "!git clone https://github.com/etherealxx/batchlinks-webui /content/stable-diffusion-webui/extensions/batchlinks-webui\n",
        "!git clone https://github.com/catppuccin/stable-diffusion-webui /content/stable-diffusion-webui/extensions/stable-diffusion-webui-catppuccin\n",
        "!git clone https://github.com/KohakuBlueleaf/a1111-sd-webui-locon /content/stable-diffusion-webui/extensions/a1111-sd-webui-locon\n",
        "!git clone https://github.com/AUTOMATIC1111/stable-diffusion-webui-rembg /content/stable-diffusion-webui/extensions/stable-diffusion-webui-rembg\n",
        "!git clone https://github.com/ashen-sensored/stable-diffusion-webui-two-shot /content/stable-diffusion-webui/extensions/stable-diffusion-webui-two-shot\n",
        "!git clone https://github.com/camenduru/sd_webui_stealth_pnginfo /content/stable-diffusion-webui/extensions/sd_webui_stealth_pnginfo\n",
        "%cd /content/stable-diffusion-webui\n",
        "!git reset --hard\n",
        "model = "defmix_v2_webui_colab.ipynb" #@param ["526_mix_webui_colab.ipynb","7th_layer_webui_colab.ipynb","8528_diffusion_webui_colab.ipynb","a_certain_model_webui_colab.ipynb","a_certain_thing_webui_colab.ipynb","a_certainty_webui_colab.ipynb","abyss_orange_mix_2_webui_colab.ipynb","abyss_orange_mix_3_webui_colab.ipynb","alfamix_webui_colab.ipynb","all_in_one_pixel_model_webui_colab.ipynb","analog_diffusion_webui_colab.ipynb","anireality_mix_webui_colab.ipynb","anylora_webui_colab.ipynb","anything_3_webui_colab.ipynb","anything_4_webui_colab.ipynb","anything_5_webui_colab.ipynb","anything_gape_webui_colab.ipynb","arcane_diffusion_3_webui_colab.ipynb","babes_blend_webui_colab.ipynb","berry_mix_1_5_webui_colab.ipynb","cafe_instagram_v6_webui_colab.ipynb","cetus_mix_v3_1_webui_colab.ipynb","cheese_daddys_landscapes_mix_webui_colab.ipynb","chillout_mix_webui_colab.ipynb","cinematic_diffusion_webui_colab.ipynb","color_bomb_mix_webui_colab.ipynb","comic_diffusion_v2_webui_colab.ipynb","comics_blend_webui_colab.ipynb","complex_lineart_webui_colab.ipynb","cool_japan_diffusion_2_1_webui_colab.ipynb","counterfeit_v2_0_webui_colab.ipynb","cyberpunk_anime_diffusion_webui_colab.ipynb","dark_sushi_mix_mix_webui_colab.ipynb","defmix_v2_webui_colab.ipynb","deliberate_webui_colab.ipynb","dosmix_webui_colab.ipynb","dpepmkmp_webui_colab.ipynb","dream_like_sam_kuvshino_webui_colab.ipynb","dreamlike_diffusion_1_webui_colab.ipynb","dreamlike_photoreal_2_webui_colab.ipynb","dreamshaper_3_32_webui_colab.ipynb","duchaitenaiart_v1_1_webui_colab.ipynb","eimis_anime_diffusion_1_webui_colab.ipynb","elldreths_lucid_mix_v10_webui_colab.ipynb","elysium_anime_2_webui_colab.ipynb","experience_webui_colab.ipynb","f222_webui_colab.ipynb","faetastic_v1_webui_colab.ipynb","fantasy_world_v1_webui_colab.ipynb","food_crit_webui_colab.ipynb","grapefruit_webui_colab.ipynb","graphic_art_webui_colab.ipynb","hasdx_webui_colab.ipynb","hassan_blend_1_4_webui_colab.ipynb","illustration_diffusion_webui_colab.ipynb","inkpunk_webui_colab.ipynb","izumi_v1_webui_colab.ipynb","knollingcase_webui_colab.ipynb","liberty_webui_colab.ipynb","lucky_strike_mix_webui_colab.ipynb","magical_mix_v1_webui_colab.ipynb","magical_mix_v2_webui_colab.ipynb","mare_coloris_webui_colab.ipynb","meina_mix_v8_webui_colab.ipynb","midjourney_v4_diffusion_webui_colab.ipynb","mo_di_diffusion_webui_colab.ipynb","monstermash_any_3_webui_colab.ipynb","mousey_mix_webui_colab.ipynb","neverending_dream_webui_colab.ipynb","nostalgia_clear_webui_colab.ipynb","open_anime_journey_webui_colab.ipynb","openjourney_v2_diffusion_webui_colab.ipynb","openjourney_v4_webui_colab.ipynb","padoru_v1_webui_colab.ipynb","papercut_diffusion_webui_colab.ipynb","pastel_boys_2d_webui_colab.ipynb","pastel_mix_stylized_anime_webui_colab.ipynb","pegasus_9_mix_webui_colab.ipynb","perfect_world_v2_webui_colab.ipynb","photorealistic_fuen_v1_webui_colab.ipynb","pix2pix_webui_colab.ipynb","pony_diffusion_2_webui_colab.ipynb","pony_diffusion_v3_webui_colab.ipynb","pony_v4_webui_colab.ipynb","popup_book_diffusion_webui_colab.ipynb","protogen_nova_webui_colab.ipynb","protogen_v2_2_webui_colab.ipynb","protogen_x3_4_webui_colab.ipynb","pvc_v3_webui_colab.ipynb","rando_mix_3_webui_colab.ipynb","realbiter_v1_0_webui_colab.ipynb","realistic_vision_v13_webui_colab.ipynb","realistic_vision_v20_webui_colab.ipynb","refslave_v2_webui_colab.ipynb","rev_animated_v1_1_webui_colab.ipynb","riffusion_v1_webui_colab.ipynb","rmada_merge_v5_webui_colab.ipynb","rmadart_v5_webui_colab.ipynb","robo_diffusion_webui_colab.ipynb","rpg_v4_webui_colab.ipynb","samdoesart_diffusion_webui_colab.ipynb","samdoessexy_blend_webui_colab.ipynb","seek_art_mega_v1_webui_colab.ipynb","seekart_mega_webui_colab.ipynb","simpmaker_3k_webui_colab.ipynb","stable_diffusion_1_5_webui_colab.ipynb","stable_diffusion_inpainting_webui_colab.ipynb","stable_diffusion_v2_1_base_webui_colab.ipynb","stable_diffusion_v2_1_webui_colab.ipynb","stable_diffusion_v2_base_webui_colab.ipynb","stable_diffusion_v2_depth_webui_colab.ipynb","stable_diffusion_v2_inpainting_webui_colab.ipynb","stable_diffusion_v2_webui_colab.ipynb","stable_diffusion_webui_colab.ipynb","stablydiffuseds_aesthetic_mix_webui_colab.ipynb","sukiyaki_mix_v1_webui_colab.ipynb","synthwave_punk_v2_webui_colab.ipynb","uber_realistic_merge_webui_colab.ipynb","uber_realistic_v1_webui_colab.ipynb","van_gogh_diffusion_webui_colab.ipynb","vinte_protogen_mix_v_1_0_webui_colab.ipynb","vintedois_diffusion_0_1_webui_colab.ipynb","voxo_webui_colab.ipynb","waifu_diffusion_v1_4_webui_colab.ipynb","waifu_diffusion_v1_5_b2_webui_colab.ipynb","waifu_diffusion_v1_5_webui_colab.ipynb","waifu_diffusion_webui_colab.ipynb","woolitize_webui_colab.ipynb","yiffy_e18_webui_colab.ipynb","yiffy_mix_webui_colab.ipynb","yohan_diffusion_webui_colab.ipynb"]/n",
        "\n",
        "\n",
        "!aria2c --console-log-level=error -c -x 16 -s 16 -k 1M https://huggingface.co/Defpoint/Defmix-v2.0/resolve/main/Defmix-v2.0.safetensors -d /content/stable-diffusion-webui/models/Stable-diffusion -o Defmix-v2.0.safetensors\n",
        "!aria2c --console-log-level=error -c -x 16 -s 16 -k 1M https://huggingface.co/hakurei/waifu-diffusion-v1-4/resolve/main/vae/kl-f8-anime2.ckpt -d /content/stable-diffusion-webui/models/Stable-diffusion -o Defmix-v2.0.vae.pt\n",
        "\n",
        "!sed -i -e 's/\\\"sd_model_checkpoint\\\"\\,/\\\"sd_model_checkpoint\\,sd_vae\\,CLIP_stop_at_last_layers\\\"\\,/g' /content/stable-diffusion-webui/modules/shared.py\n",
        "\n",
        "!python launch.py --listen --xformers --enable-insecure-extension-access --theme dark --gradio-queue --multiple"
      ]
    }
  ],
  "metadata": {
    "accelerator": "GPU",
    "colab": {
      "collapsed_sections": [],
      "private_outputs": true,
      "provenance": []
    },
    "gpuClass": "standard",
    "kernelspec": {
      "display_name": "Python 3",
      "language": "python",
      "name": "python3"
    },
    "language_info": {
      "name": "python",
      "version": "3.10.8"
    },
    "vscode": {
      "interpreter": {
        "hash": "e593ac106456af50ce7af38f9671c411b49d6cd90f9b885e167f0f594e09038c"
      }
    }
  },
  "nbformat": 4,
  "nbformat_minor": 0
}
